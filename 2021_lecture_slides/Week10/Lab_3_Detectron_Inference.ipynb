{
  "nbformat": 4,
  "nbformat_minor": 0,
  "metadata": {
    "accelerator": "GPU",
    "colab": {
      "name": "Lab_3_Detectron_Inference.ipynb",
      "provenance": [],
      "collapsed_sections": []
    },
    "kernelspec": {
      "display_name": "Python 3",
      "language": "python",
      "name": "python3"
    },
    "language_info": {
      "codemirror_mode": {
        "name": "ipython",
        "version": 3
      },
      "file_extension": ".py",
      "mimetype": "text/x-python",
      "name": "python",
      "nbconvert_exporter": "python",
      "pygments_lexer": "ipython3",
      "version": "3.8.8"
    }
  },
  "cells": [
    {
      "cell_type": "markdown",
      "metadata": {
        "id": "Ezrcff1962W8"
      },
      "source": [
        "# Detectron2: Inference on an Image\n",
        "\n",
        "<img src=\"https://dl.fbaipublicfiles.com/detectron2/Detectron2-Logo-Horz.png\" width=\"500\">\n",
        "\n",
        "In this Lab session, we will run a pre-trained [Detectron2](https://github.com/facebookresearch/detectron2) model on an:\n",
        "* Image\n",
        "* Video\n",
        "* Custom dataset.\n",
        "\n",
        "Detectron2 is an open-source project by Facebook AI Research (FAIR).\n",
        "\n",
        "You can use Detectron2 for state-of-the-art object detection, segmentation and person keypoint detection tasks.\n",
        "\n",
        "There are numerous models in the [Model Zoo](https://github.com/facebookresearch/detectron2/blob/master/MODEL_ZOO.md)\n"
      ]
    },
    {
      "cell_type": "markdown",
      "metadata": {
        "id": "__tLU8Rd7GE9"
      },
      "source": [
        "# Step 1: Installs & Imports"
      ]
    },
    {
      "cell_type": "markdown",
      "metadata": {
        "id": "B1h4Ecg50nOw"
      },
      "source": [
        "## Install Dependencies"
      ]
    },
    {
      "cell_type": "code",
      "metadata": {
        "id": "sFq74jc765C1"
      },
      "source": [
        "# Install dependencies: \n",
        "!pip install pyyaml==5.1 pycocotools>=2.0.1\n",
        "import torch, torchvision\n",
        "print(torch.__version__, torch.cuda.is_available())\n",
        "!gcc --version\n",
        "# opencv is pre-installed on colab"
      ],
      "execution_count": null,
      "outputs": []
    },
    {
      "cell_type": "code",
      "metadata": {
        "id": "po8Y8wAH7CY2"
      },
      "source": [
        "# install detectron2: (Colab has CUDA 11.1 + torch 1.10)\n",
        "# See https://detectron2.readthedocs.io/tutorials/install.html for instructions\n",
        "import torch\n",
        "assert torch.__version__.startswith(\"1.10\")\n",
        "!pip install detectron2 -f https://dl.fbaipublicfiles.com/detectron2/wheels/cu111/torch1.10/index.html # This url needs to be adapted to your torch/CUDA version\n",
        "exit(0)  # After installation, you need to \"restart runtime\" in Colab. This line can also restart runtime"
      ],
      "execution_count": null,
      "outputs": []
    },
    {
      "cell_type": "markdown",
      "metadata": {
        "id": "yKg66DLO0jcn"
      },
      "source": [
        "## Import Libraries"
      ]
    },
    {
      "cell_type": "code",
      "metadata": {
        "id": "UivoJntB7JuW"
      },
      "source": [
        "# Some basic setup:\n",
        "# Setup detectron2 logger\n",
        "import detectron2\n",
        "from detectron2.utils.logger import setup_logger\n",
        "setup_logger()\n",
        "\n",
        "# import some common libraries\n",
        "import numpy as np\n",
        "import os, json, cv2, random\n",
        "from google.colab.patches import cv2_imshow\n",
        "\n",
        "# import some common detectron2 utilities\n",
        "from detectron2 import model_zoo\n",
        "from detectron2.engine import DefaultPredictor\n",
        "from detectron2.config import get_cfg\n",
        "from detectron2.utils.visualizer import Visualizer\n",
        "from detectron2.data import MetadataCatalog, DatasetCatalog"
      ],
      "execution_count": null,
      "outputs": []
    },
    {
      "cell_type": "markdown",
      "metadata": {
        "id": "CS8sDsxw7MKe"
      },
      "source": [
        "## Where does the code come from?\n",
        "\n",
        "Let's have a look and see where this code is coming from.\n",
        "\n",
        "Open the Detectron Repo in GitHub:\n",
        "\n",
        "\n",
        "*   GitHub: https://github.com/facebookresearch/detectron2\n",
        "\n",
        "\n"
      ]
    },
    {
      "cell_type": "markdown",
      "metadata": {
        "id": "-B_Zdtvh07Zu"
      },
      "source": [
        "# Step 2: Load an Image\n",
        "\n",
        "Let's grab an image from the COCO dataset and use this code to display it. \n",
        "\n",
        "*   https://cocodataset.org/#home"
      ]
    },
    {
      "cell_type": "code",
      "metadata": {
        "id": "joA76Z9s1VY_"
      },
      "source": [
        "# Bike - https://farm1.staticflickr.com/103/300626851_2ef81f255a_z.jpg\n",
        "# Living Room - https://farm5.staticflickr.com/4017/4445210526_45c53f6dc2_z.jpg\n",
        "# Tennis Player - https://farm4.staticflickr.com/3334/3593807246_67b87f30b5_z.jpg\n",
        "\n",
        "!wget https://farm5.staticflickr.com/4017/4445210526_45c53f6dc2_z.jpg -q -O input.jpg"
      ],
      "execution_count": null,
      "outputs": []
    },
    {
      "cell_type": "markdown",
      "metadata": {
        "id": "MGiU6Fei1NYC"
      },
      "source": [
        "# Step 3: Visualize the Image"
      ]
    },
    {
      "cell_type": "code",
      "metadata": {
        "id": "NO2SAOpX7Zjk"
      },
      "source": [
        "# Show an image with OpenCV\n",
        "im = cv2.imread(\"./input.jpg\")\n",
        "cv2_imshow(im)"
      ],
      "execution_count": null,
      "outputs": []
    },
    {
      "cell_type": "markdown",
      "metadata": {
        "id": "sru-8zUR-n1X"
      },
      "source": [
        "# Step 4: Define the Model\n",
        "\n",
        "Now create a detectron2 config and a detectron2 `DefaultPredictor` to run inference on this image."
      ]
    },
    {
      "cell_type": "code",
      "metadata": {
        "id": "FooiHQu17bYn"
      },
      "source": [
        "cfg = get_cfg()\n",
        "# add project-specific config (e.g., TensorMask) here if you're not running a model in detectron2's core library\n",
        "cfg.merge_from_file(model_zoo.get_config_file(\"COCO-InstanceSegmentation/mask_rcnn_R_50_FPN_3x.yaml\"))\n",
        "cfg.MODEL.ROI_HEADS.SCORE_THRESH_TEST = 0.5  # set threshold for this model\n",
        "# Find a model from detectron2's model zoo. You can use the https://dl.fbaipublicfiles... url as well\n",
        "cfg.MODEL.WEIGHTS = model_zoo.get_checkpoint_url(\"COCO-InstanceSegmentation/mask_rcnn_R_50_FPN_3x.yaml\")\n"
      ],
      "execution_count": null,
      "outputs": []
    },
    {
      "cell_type": "markdown",
      "metadata": {
        "id": "FnXX936C2cP-"
      },
      "source": [
        "# Step 5: Inference on the Image"
      ]
    },
    {
      "cell_type": "code",
      "metadata": {
        "id": "MHWAQV7V2a5L"
      },
      "source": [
        "predictor = DefaultPredictor(cfg)\n",
        "outputs = predictor(im)"
      ],
      "execution_count": null,
      "outputs": []
    },
    {
      "cell_type": "code",
      "metadata": {
        "id": "NtmZH85l_ldx"
      },
      "source": [
        "# look at the outputs. See https://detectron2.readthedocs.io/tutorials/models.html#model-output-format for specification\n",
        "print(outputs[\"instances\"].pred_classes)\n",
        "print(outputs[\"instances\"].pred_boxes)"
      ],
      "execution_count": null,
      "outputs": []
    },
    {
      "cell_type": "markdown",
      "metadata": {
        "id": "pDl7Ir4n_nnx"
      },
      "source": [
        "# Step 6: Visualize the Output Image"
      ]
    },
    {
      "cell_type": "code",
      "metadata": {
        "id": "TISY4KiL_1pz"
      },
      "source": [
        "# We can use `Visualizer` to draw the predictions on the image.\n",
        "v = Visualizer(im[:, :, ::-1], MetadataCatalog.get(cfg.DATASETS.TRAIN[0]), scale=1.2)\n",
        "out = v.draw_instance_predictions(outputs[\"instances\"].to(\"cpu\"))\n",
        "cv2_imshow(out.get_image()[:, :, ::-1])"
      ],
      "execution_count": null,
      "outputs": []
    },
    {
      "cell_type": "markdown",
      "metadata": {
        "id": "VgGWOaJyAFvB"
      },
      "source": [
        "# Step 7: Inference on a Video"
      ]
    },
    {
      "cell_type": "markdown",
      "metadata": {
        "id": "EhS9XnEI_FQx"
      },
      "source": [
        "## Display the Video"
      ]
    },
    {
      "cell_type": "code",
      "metadata": {
        "id": "WBfF_z9zAHhT"
      },
      "source": [
        "# This is the video we're going to process\n",
        "from IPython.display import YouTubeVideo, display\n",
        "video = YouTubeVideo(\"ehtsmxu1w10\", width=500)\n",
        "display(video)"
      ],
      "execution_count": null,
      "outputs": []
    },
    {
      "cell_type": "markdown",
      "metadata": {
        "id": "zNf89OJE_Jdr"
      },
      "source": [
        "## Install Additional Dependencies"
      ]
    },
    {
      "cell_type": "code",
      "metadata": {
        "id": "0RMwfobaAmYj"
      },
      "source": [
        "# Install dependencies, download the video, and crop 5 seconds for processing\n",
        "!pip install youtube-dl\n",
        "# !pip uninstall -y opencv-python-headless opencv-contrib-python\n",
        "# !apt install python3-opencv  # the one pre-installed have some issues\n",
        "!youtube-dl https://www.youtube.com/watch?v=ehtsmxu1w10 -f 22 -o video.mp4\n",
        "!ffmpeg -i video.mp4 -t 00:00:06 -c:v copy video-clip.mp4"
      ],
      "execution_count": null,
      "outputs": []
    },
    {
      "cell_type": "markdown",
      "metadata": {
        "id": "tUtSnFZN_O7z"
      },
      "source": [
        "## Run frame-by-frame Inference"
      ]
    },
    {
      "cell_type": "code",
      "metadata": {
        "id": "8s_VkhPhiXoh"
      },
      "source": [
        "# Run frame-by-frame inference demo on this video (takes 3-4 minutes) with the \"demo.py\" tool we provided in the repo.\n",
        "!git clone https://github.com/facebookresearch/detectron2\n",
        "!python detectron2/demo/demo.py --config-file detectron2/configs/COCO-PanopticSegmentation/panoptic_fpn_R_101_3x.yaml --video-input video-clip.mp4 --confidence-threshold 0.6 --output video-output.mkv \\\n",
        "  --opts MODEL.WEIGHTS detectron2://COCO-PanopticSegmentation/panoptic_fpn_R_101_3x/139514519/model_final_cafdb1.pkl"
      ],
      "execution_count": null,
      "outputs": []
    },
    {
      "cell_type": "code",
      "metadata": {
        "id": "q3KtPyuxpUOH"
      },
      "source": [
        "from google.colab import drive\n",
        "drive.mount('/content/drive')"
      ],
      "execution_count": null,
      "outputs": []
    },
    {
      "cell_type": "markdown",
      "metadata": {
        "id": "GfnXClNn_S9A"
      },
      "source": [
        "## Download the Resultant Video"
      ]
    },
    {
      "cell_type": "code",
      "metadata": {
        "id": "NUSuSy91Ao5w"
      },
      "source": [
        "# Download the results\n",
        "from google.colab import files\n",
        "files.download('video-output.mkv')"
      ],
      "execution_count": null,
      "outputs": []
    },
    {
      "cell_type": "markdown",
      "metadata": {
        "id": "S9NNYJSf_9g7"
      },
      "source": [
        "## Watch the Video\n",
        "\n",
        "[Code Credit](https://stackoverflow.com/questions/57377185/how-play-mp4-video-in-google-colab)"
      ]
    },
    {
      "cell_type": "code",
      "metadata": {
        "id": "i1P4n07C9wjA"
      },
      "source": [
        "from IPython.display import HTML\n",
        "from base64 import b64encode\n",
        "import os\n",
        "\n",
        "# Input video path\n",
        "save_path = 'video-output.mkv'\n",
        "\n",
        "# Compressed video path\n",
        "compressed_path = 'video-output-compressed.mp4'\n",
        "\n",
        "os.system(f'ffmpeg -i {save_path} -vcodec libx264 {compressed_path}')\n",
        "\n",
        "# Show video\n",
        "mp4 = open(compressed_path,'rb').read()\n",
        "data_url = 'data:video/mp4;base64,' + b64encode(mp4).decode()\n",
        "HTML('''\n",
        "<video width=400 controls>\n",
        "      <source src=\"%s\" type=\"video/mp4\">\n",
        "</video>\n",
        "''' % data_url)"
      ],
      "execution_count": null,
      "outputs": []
    },
    {
      "cell_type": "markdown",
      "metadata": {
        "id": "EQp5NByIC2z1"
      },
      "source": [
        "# Step 8: Load the Custom Dataset\n"
      ]
    },
    {
      "cell_type": "markdown",
      "metadata": {
        "id": "qVp8Prh35bJx"
      },
      "source": [
        "## Download the Zip"
      ]
    },
    {
      "cell_type": "code",
      "metadata": {
        "id": "lPXxa969DBfn"
      },
      "source": [
        "# download, decompress the data\n",
        "!wget https://github.com/matterport/Mask_RCNN/releases/download/v2.1/balloon_dataset.zip\n",
        "!unzip balloon_dataset.zip"
      ],
      "execution_count": null,
      "outputs": []
    },
    {
      "cell_type": "markdown",
      "metadata": {
        "id": "fsxBACAhE2GO"
      },
      "source": [
        "## Register the Custom Dataset"
      ]
    },
    {
      "cell_type": "code",
      "metadata": {
        "id": "mxYLfXdqDF74"
      },
      "source": [
        "# if your dataset is in COCO format, this cell can be replaced by the following three lines:\n",
        "# from detectron2.data.datasets import register_coco_instances\n",
        "# register_coco_instances(\"my_dataset_train\", {}, \"json_annotation_train.json\", \"path/to/image/dir\")\n",
        "# register_coco_instances(\"my_dataset_val\", {}, \"json_annotation_val.json\", \"path/to/image/dir\")\n",
        "\n",
        "from detectron2.structures import BoxMode\n",
        "\n",
        "def get_balloon_dicts(img_dir):\n",
        "    json_file = os.path.join(img_dir, \"via_region_data.json\")\n",
        "    with open(json_file) as f:\n",
        "        imgs_anns = json.load(f)\n",
        "\n",
        "    dataset_dicts = []\n",
        "    for idx, v in enumerate(imgs_anns.values()):\n",
        "        record = {}\n",
        "        \n",
        "        filename = os.path.join(img_dir, v[\"filename\"])\n",
        "        height, width = cv2.imread(filename).shape[:2]\n",
        "        \n",
        "        record[\"file_name\"] = filename\n",
        "        record[\"image_id\"] = idx\n",
        "        record[\"height\"] = height\n",
        "        record[\"width\"] = width\n",
        "      \n",
        "        annos = v[\"regions\"]\n",
        "        objs = []\n",
        "        for _, anno in annos.items():\n",
        "            assert not anno[\"region_attributes\"]\n",
        "            anno = anno[\"shape_attributes\"]\n",
        "            px = anno[\"all_points_x\"]\n",
        "            py = anno[\"all_points_y\"]\n",
        "            poly = [(x + 0.5, y + 0.5) for x, y in zip(px, py)]\n",
        "            poly = [p for x in poly for p in x]\n",
        "\n",
        "            obj = {\n",
        "                \"bbox\": [np.min(px), np.min(py), np.max(px), np.max(py)],\n",
        "                \"bbox_mode\": BoxMode.XYXY_ABS,\n",
        "                \"segmentation\": [poly],\n",
        "                \"category_id\": 0,\n",
        "            }\n",
        "            objs.append(obj)\n",
        "        record[\"annotations\"] = objs\n",
        "        dataset_dicts.append(record)\n",
        "    return dataset_dicts\n",
        "\n",
        "for d in [\"train\", \"val\"]:\n",
        "    DatasetCatalog.register(\"balloon_\" + d, lambda d=d: get_balloon_dicts(\"balloon/\" + d))\n",
        "    MetadataCatalog.get(\"balloon_\" + d).set(thing_classes=[\"balloon\"])\n",
        "balloon_metadata = MetadataCatalog.get(\"balloon_train\")"
      ],
      "execution_count": null,
      "outputs": []
    },
    {
      "cell_type": "markdown",
      "metadata": {
        "id": "Vj0i_eKB5jTS"
      },
      "source": [
        "# Step 9: Visualize the Custom Data\n",
        "\n",
        "To verify the data loading is correct, let's visualize the annotations of randomly selected samples in the training set:\n",
        "\n"
      ]
    },
    {
      "cell_type": "code",
      "metadata": {
        "id": "eT6SZjWxDHfv"
      },
      "source": [
        "dataset_dicts = get_balloon_dicts(\"balloon/train\")\n",
        "for d in random.sample(dataset_dicts, 3):\n",
        "    img = cv2.imread(d[\"file_name\"])\n",
        "    visualizer = Visualizer(img[:, :, ::-1], metadata=balloon_metadata, scale=0.5)\n",
        "    out = visualizer.draw_dataset_dict(d)\n",
        "    cv2_imshow(out.get_image()[:, :, ::-1])"
      ],
      "execution_count": null,
      "outputs": []
    },
    {
      "cell_type": "markdown",
      "metadata": {
        "id": "Ku7Qse74DOSn"
      },
      "source": [
        "# Step 10: Fine-tune the Model\n",
        "\n",
        "Now, let's fine-tune a COCO-pretrained R50-FPN Mask R-CNN model on the balloon dataset. It takes ~6 minutes to train 300 iterations on Colab's K80 GPU, or ~2 minutes on a P100 GPU.\n"
      ]
    },
    {
      "cell_type": "code",
      "metadata": {
        "id": "_fbchqgPDQRB"
      },
      "source": [
        "from detectron2.engine import DefaultTrainer\n",
        "\n",
        "cfg = get_cfg()\n",
        "cfg.merge_from_file(model_zoo.get_config_file(\"COCO-InstanceSegmentation/mask_rcnn_R_50_FPN_3x.yaml\"))\n",
        "cfg.DATASETS.TRAIN = (\"balloon_train\",)\n",
        "cfg.DATASETS.TEST = ()\n",
        "cfg.DATALOADER.NUM_WORKERS = 2\n",
        "cfg.MODEL.WEIGHTS = model_zoo.get_checkpoint_url(\"COCO-InstanceSegmentation/mask_rcnn_R_50_FPN_3x.yaml\")  # Let training initialize from model zoo\n",
        "cfg.SOLVER.IMS_PER_BATCH = 2\n",
        "cfg.SOLVER.BASE_LR = 0.00025  # pick a good LR\n",
        "cfg.SOLVER.MAX_ITER = 300    # 300 iterations seems good enough for this toy dataset; you will need to train longer for a practical dataset\n",
        "cfg.MODEL.ROI_HEADS.BATCH_SIZE_PER_IMAGE = 128   # faster, and good enough for this toy dataset (default: 512)\n",
        "cfg.MODEL.ROI_HEADS.NUM_CLASSES = 1  # only has one class (ballon). (see https://detectron2.readthedocs.io/tutorials/datasets.html#update-the-config-for-new-datasets)"
      ],
      "execution_count": null,
      "outputs": []
    },
    {
      "cell_type": "markdown",
      "metadata": {
        "id": "hPui2Gkx5857"
      },
      "source": [
        "# Step 11: Train the Model"
      ]
    },
    {
      "cell_type": "code",
      "metadata": {
        "id": "7IGiGtHJ57T-"
      },
      "source": [
        "os.makedirs(cfg.OUTPUT_DIR, exist_ok=True)\n",
        "trainer = DefaultTrainer(cfg) \n",
        "trainer.resume_or_load(resume=False)\n",
        "trainer.train()"
      ],
      "execution_count": null,
      "outputs": []
    },
    {
      "cell_type": "markdown",
      "metadata": {
        "id": "vYT2sFUbDR_P"
      },
      "source": [
        "# Step 12: View Results on Tensorboard\n"
      ]
    },
    {
      "cell_type": "code",
      "metadata": {
        "id": "LR8tJGwzDUOK"
      },
      "source": [
        "# Look at training curves in tensorboard:\n",
        "%load_ext tensorboard\n",
        "%tensorboard --logdir output"
      ],
      "execution_count": null,
      "outputs": []
    },
    {
      "cell_type": "markdown",
      "metadata": {
        "id": "ah_mBod7DYex"
      },
      "source": [
        "# Step 13: Inference on the Custom Dataset\n",
        "Now, let's run inference with the trained model on the balloon validation dataset. First, let's create a predictor using the model we just trained:\n",
        "\n"
      ]
    },
    {
      "cell_type": "code",
      "metadata": {
        "id": "2zUMleZtDY8p"
      },
      "source": [
        "# cfg already contains everything we've set previously. Now we changed it a little bit for inference:\n",
        "cfg.MODEL.WEIGHTS = os.path.join(cfg.OUTPUT_DIR, \"model_final.pth\")  # path to the model we just trained\n",
        "cfg.MODEL.ROI_HEADS.SCORE_THRESH_TEST = 0.7   # set a custom testing threshold\n",
        "predictor = DefaultPredictor(cfg)"
      ],
      "execution_count": null,
      "outputs": []
    },
    {
      "cell_type": "markdown",
      "metadata": {
        "id": "tM6rPhnT6ICj"
      },
      "source": [
        "# Step 14: Visualize the Output\n",
        "\n",
        "Then, we randomly select several samples to visualize the prediction results."
      ]
    },
    {
      "cell_type": "code",
      "metadata": {
        "id": "IGWH5qYmDc3T"
      },
      "source": [
        "from detectron2.utils.visualizer import ColorMode\n",
        "dataset_dicts = get_balloon_dicts(\"balloon/val\")\n",
        "for d in random.sample(dataset_dicts, 3):    \n",
        "    im = cv2.imread(d[\"file_name\"])\n",
        "    outputs = predictor(im)  # format is documented at https://detectron2.readthedocs.io/tutorials/models.html#model-output-format\n",
        "    v = Visualizer(im[:, :, ::-1],\n",
        "                   metadata=balloon_metadata, \n",
        "                   scale=0.5, \n",
        "                   instance_mode=ColorMode.IMAGE_BW   # remove the colors of unsegmented pixels. This option is only available for segmentation models\n",
        "    )\n",
        "    out = v.draw_instance_predictions(outputs[\"instances\"].to(\"cpu\"))\n",
        "    cv2_imshow(out.get_image()[:, :, ::-1])"
      ],
      "execution_count": null,
      "outputs": []
    },
    {
      "cell_type": "markdown",
      "metadata": {
        "id": "FqGeFdTpDioT"
      },
      "source": [
        "# Step 15: Metrics\n",
        "\n",
        "We can also evaluate its performance using AP metric implemented in COCO API.\n",
        "This gives an AP of ~70. Not bad!"
      ]
    },
    {
      "cell_type": "code",
      "metadata": {
        "id": "RfV5iJYjDj7S"
      },
      "source": [
        "from detectron2.evaluation import COCOEvaluator, inference_on_dataset\n",
        "from detectron2.data import build_detection_test_loader\n",
        "evaluator = COCOEvaluator(\"balloon_val\", cfg, False, output_dir=\"./output/\")\n",
        "val_loader = build_detection_test_loader(cfg, \"balloon_val\")\n",
        "print(inference_on_dataset(trainer.model, val_loader, evaluator))\n",
        "# another equivalent way to evaluate the model is to use `trainer.test`"
      ],
      "execution_count": null,
      "outputs": []
    },
    {
      "cell_type": "markdown",
      "metadata": {
        "id": "pyi6zZTOCFM6"
      },
      "source": [
        "# Further Reading\n",
        "\n",
        "Check out the links below to learn more about the models in Detectron.\n",
        "\n",
        "*   This code has been modified from [Detectron2](https://github.com/facebookresearch/detectron2)\n",
        "\n",
        "*   [Detectron2 Docs - Models](https://detectron2.readthedocs.io/tutorials/models.html)\n",
        "\n",
        "*  [Detectron2 Docs - Datasets](https://detectron2.readthedocs.io/tutorials/datasets.html#update-the-config-for-new-datasets)\n",
        "\n",
        "*   [Digging into Detectron 2 ](https://medium.com/@hirotoschwert/digging-into-detectron-2-47b2e794fabd)\n",
        "\n",
        "*  [Mask R-CNN for Object Detection and Segmentation](https://github.com/matterport/Mask_RCNN)\n",
        "\n",
        "*  [Semantic Segmentation TorchVision](https://pytorch.org/docs/stable/torchvision/models.html#semantic-segmentation)\n",
        "\n",
        "*  [Matterport Balloon Color Splash](https://github.com/matterport/Mask_RCNN/tree/master/samples/balloon)\n",
        "\n",
        "*  [Image Credit in Video](https://medium.com/onepanel/instance-segmentation-with-mask-r-cnn-and-tensorflow-on-onepanel-6a072a4273dd)\n",
        "\n",
        "*  [Average Precision](https://jonathan-hui.medium.com/map-mean-average-precision-for-object-detection-45c121a31173#:~:text=IoU%20measures%20the%20overlap%20between,positive%20or%20a%20false%20positive)\n",
        "\n"
      ]
    }
  ]
}