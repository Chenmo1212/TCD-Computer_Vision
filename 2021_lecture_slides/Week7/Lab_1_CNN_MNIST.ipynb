{
  "nbformat": 4,
  "nbformat_minor": 0,
  "metadata": {
    "kernelspec": {
      "display_name": "Python 3",
      "language": "python",
      "name": "python3"
    },
    "language_info": {
      "codemirror_mode": {
        "name": "ipython",
        "version": 3
      },
      "file_extension": ".py",
      "mimetype": "text/x-python",
      "name": "python",
      "nbconvert_exporter": "python",
      "pygments_lexer": "ipython3",
      "version": "3.6.8"
    },
    "colab": {
      "name": "Lab_1_CNN_MNIST.ipynb",
      "provenance": [],
      "collapsed_sections": []
    },
    "accelerator": "GPU"
  },
  "cells": [
    {
      "cell_type": "markdown",
      "metadata": {
        "id": "scdx9EkkhMVD"
      },
      "source": [
        "# Training a MNIST Classifier\n",
        "\n",
        "There are many examples of how to train a Fashion-MNIST with PyTorch. This notebook broken up into 7 different steps, to give you an overview of the process. \n",
        "\n",
        "Next week we will dive into what the parameters mean, and how to run experiments.\n",
        "\n",
        "We will do the following steps in order:\n",
        "\n",
        "1. Import your libraries\n",
        "2. Load the Dataset & Make the Dataset Iterable\n",
        "3. Visualize the Data\n",
        "4. Define the Network\n",
        "5. Define Loss Function and Optimizer\n",
        "6. Train the network\n",
        "7. Save the model\n",
        "\n",
        "This lab is adapted from this [Python Tutorials](https://pytorch.org/tutorials/beginner/blitz/cifar10_tutorial.html#sphx-glr-beginner-blitz-cifar10-tutorial-py). Please read this tutorial first.\n",
        "\n",
        "Tip: when in doubt, refer to the docs: [PyTorch](https://pytorch.org/docs/stable/index.html) and [torchvision](https://pytorch.org/vision/stable/index.html)."
      ]
    },
    {
      "cell_type": "markdown",
      "metadata": {
        "id": "CUcGYDW1hoak"
      },
      "source": [
        "# Step 1:Import the libraries"
      ]
    },
    {
      "cell_type": "code",
      "metadata": {
        "id": "Z2c-VLLKhMVD"
      },
      "source": [
        "# Import the pytorch and torchvision libraries.\n",
        "\n",
        "# Verify the version of the two imported libraries."
      ],
      "execution_count": null,
      "outputs": []
    },
    {
      "cell_type": "markdown",
      "metadata": {
        "id": "rCFbJxE5hMVG"
      },
      "source": [
        "# Step 2:  Load the Dataset & Make the Dataset Iterable\n"
      ]
    },
    {
      "cell_type": "code",
      "metadata": {
        "id": "9UYtUBEWkgJb"
      },
      "source": [
        "# Define a transform to convert the data to a tensor and normalize the data. \n",
        "# Note that the images in the Fashion-MNIST dataset are grayscale, not color images\n",
        "\n",
        "# Download the Fashion-MNIST training datasets.\n",
        "# (have a look at the docs for torchvision.datasets if needed)\n",
        "\n",
        "# Create the Fashion-MNIST training dataset iterable.\n",
        "\n",
        "# Download the Fashion-MNIST validation datasets.\n",
        "\n",
        "# Create the Fashion-MNIST validation dataset iterable.\n",
        "\n",
        "# constant for classes\n",
        "classes = ('T-shirt/top', 'Trouser', 'Pullover', 'Dress', 'Coat',\n",
        "        'Sandal', 'Shirt', 'Sneaker', 'Bag', 'Ankle Boot')"
      ],
      "execution_count": null,
      "outputs": []
    },
    {
      "cell_type": "markdown",
      "metadata": {
        "id": "_47n9-1li216"
      },
      "source": [
        "# Step 3: Visualize the Data"
      ]
    },
    {
      "cell_type": "code",
      "metadata": {
        "id": "o8ROCqPSi28g"
      },
      "source": [
        "# Find the length of the dataset."
      ],
      "execution_count": null,
      "outputs": []
    },
    {
      "cell_type": "code",
      "metadata": {
        "id": "jGQezmlOjaPw"
      },
      "source": [
        "# Find the shape of a single batch tensor in the dataset."
      ],
      "execution_count": null,
      "outputs": []
    },
    {
      "cell_type": "markdown",
      "metadata": {
        "id": "XIxhewothMVJ"
      },
      "source": [
        "## Display a grid of images\n",
        "Let us show some of the training images.\n",
        "\n"
      ]
    },
    {
      "cell_type": "code",
      "metadata": {
        "id": "revNKuJYhhTW"
      },
      "source": [
        "# Display a single image from the MNIST dataset.\n",
        "# Hint: Use the matplotlib library."
      ],
      "execution_count": null,
      "outputs": []
    },
    {
      "cell_type": "code",
      "metadata": {
        "id": "fkzA4Ti6c6j7"
      },
      "source": [
        "# Display a grid of 64 images from the Fashion-MNIST training dataset.\n",
        "# Hint: Use torchvision and set the batchsize of the dataset to 64.\n",
        "\n",
        "# Display the list of the corresponding image labels."
      ],
      "execution_count": null,
      "outputs": []
    },
    {
      "cell_type": "markdown",
      "metadata": {
        "id": "QI3XbPdMphHH"
      },
      "source": [
        "## Using Matplotlib"
      ]
    },
    {
      "cell_type": "code",
      "metadata": {
        "id": "xPMPmXLSm_uS"
      },
      "source": [
        "# Display a grid containing 20 samples from the Fashion-MNIST training dataset.\n",
        "# Please display the image and corresponding label for each image in the grid.\n",
        "# Hint: Use the matplotlib library"
      ],
      "execution_count": null,
      "outputs": []
    },
    {
      "cell_type": "markdown",
      "metadata": {
        "id": "LBh9GhJdhMVL"
      },
      "source": [
        "# Step 4: Define the Network"
      ]
    },
    {
      "cell_type": "code",
      "metadata": {
        "id": "dyyLz_cyhMVM"
      },
      "source": [
        "# Create a Convolutional Nueral Network with the following structure:\n",
        "# Net(\n",
        "#   (conv1): Conv2d(1, 6, kernel_size=(5, 5), stride=(1, 1))\n",
        "#   (pool): MaxPool2d(kernel_size=2, stride=2, padding=0, dilation=1, ceil_mode=False)\n",
        "#   (conv2): Conv2d(6, 16, kernel_size=(5, 5), stride=(1, 1))\n",
        "#   (fc1): Linear(in_features=16 * 4 * 4, out_features=120, bias=True)\n",
        "#   (fc2): Linear(in_features=120, out_features=84, bias=True)\n",
        "#   (fc3): Linear(in_features=84, out_features=10, bias=True)\n",
        "# )"
      ],
      "execution_count": null,
      "outputs": []
    },
    {
      "cell_type": "markdown",
      "metadata": {
        "id": "G-D1l0z9hMVO"
      },
      "source": [
        "# Step 5: Define Loss Function and Optimizer\n",
        "\n",
        "Let's use a Classification Cross-Entropy loss and SGD with momentum.\n",
        "\n"
      ]
    },
    {
      "cell_type": "code",
      "metadata": {
        "id": "YJKxBFfehMVP"
      },
      "source": [
        "# Create a criterion to calculate the cross entropy loss.\n",
        "\n",
        "# Create an optimizer to perform Stochastic Gradient Descent.\n",
        "# Let the learning rate = 0.001 and momentum = 0."
      ],
      "execution_count": null,
      "outputs": []
    },
    {
      "cell_type": "markdown",
      "metadata": {
        "id": "2eW5G1SmhMVR"
      },
      "source": [
        "# Step 6: Train the network\n",
        "\n",
        "This is when things start to get interesting.\n",
        "We simply have to loop over our data iterator, and feed the inputs to the\n",
        "network and optimize.\n",
        "\n"
      ]
    },
    {
      "cell_type": "code",
      "metadata": {
        "id": "HLktRw1J1w5V"
      },
      "source": [
        "# Loop through the training dataset, calculate the predicted loss for each \n",
        "# batch and backpropogate through the network.\n",
        "# Tip: Print the training loss and accuracy after each epoch and print when\n",
        "# training has terminated successfully."
      ],
      "execution_count": null,
      "outputs": []
    },
    {
      "cell_type": "markdown",
      "metadata": {
        "id": "cUrOBnAJhMVU"
      },
      "source": [
        "# Step 7: Save the model\n",
        "Let's quickly save our trained model:\n",
        "\n"
      ]
    },
    {
      "cell_type": "code",
      "metadata": {
        "id": "G7OkVnNAhMVU"
      },
      "source": [
        ""
      ],
      "execution_count": null,
      "outputs": []
    },
    {
      "cell_type": "markdown",
      "metadata": {
        "id": "bgzy-Hmr4MzW"
      },
      "source": [
        "# Further Reading\n",
        "\n",
        "Check out the links below to further understand how a CNN works\n",
        "\n",
        "*   [CNN Explainer](https://poloclub.github.io/cnn-explainer/)\n",
        "*   [Deep Learning Wizard](https://www.deeplearningwizard.com/deep_learning/practical_pytorch/pytorch_convolutional_neuralnetwork/)\n",
        "\n",
        "*   [Deep Learning Tips and Tricks cheatsheet](https://stanford.edu/~shervine/teaching/cs-230/cheatsheet-deep-learning-tips-and-tricks)\n",
        "\n"
      ]
    }
  ]
}