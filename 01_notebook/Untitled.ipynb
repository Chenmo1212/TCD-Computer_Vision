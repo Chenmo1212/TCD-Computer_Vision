{
 "cells": [
  {
   "cell_type": "markdown",
   "id": "79891203",
   "metadata": {},
   "source": [
    "# Computer Vision Notebook"
   ]
  },
  {
   "cell_type": "code",
   "execution_count": null,
   "id": "de4a1f68",
   "metadata": {},
   "outputs": [],
   "source": [
    "import cv2\n",
    "img=cv2.imread('path')#path指图片相关路径\n",
    "cv2.imshow('Demo',img)\n",
    "cv2.nameWindow('Demo')\n",
    "cv2.waitKey(0)\n",
    "cv2.destroyAllWindows()"
   ]
  }
 ],
 "metadata": {
  "kernelspec": {
   "display_name": "Python (machine_learning)",
   "language": "python",
   "name": "machine_learning"
  },
  "language_info": {
   "codemirror_mode": {
    "name": "ipython",
    "version": 3
   },
   "file_extension": ".py",
   "mimetype": "text/x-python",
   "name": "python",
   "nbconvert_exporter": "python",
   "pygments_lexer": "ipython3",
   "version": "3.8.13"
  }
 },
 "nbformat": 4,
 "nbformat_minor": 5
}
