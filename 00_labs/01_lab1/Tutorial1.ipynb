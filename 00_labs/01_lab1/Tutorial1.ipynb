{
 "cells": [
  {
   "cell_type": "markdown",
   "metadata": {
    "id": "hqE1joZ_3-Ur"
   },
   "source": [
    "## Quick Introduction to Python and OpenCV\n",
    "\n",
    "We will cover basic data types, data structures, loops, functions in Python. We will also make an intro to Numpy, which is a very powerful library for Python.\n",
    "\n",
    "After Python intro, we will make a short start to OpenCV.\n",
    "\n",
    "Some of the content is taken from: https://colab.research.google.com/github/cs231n/cs231n.github.io/blob/master/python-colab.ipynb#scrollTo=sk_8DFcuL9ey\n"
   ]
  },
  {
   "cell_type": "markdown",
   "metadata": {
    "id": "4jMOpwrs65XK"
   },
   "source": [
    "# Data Types"
   ]
  },
  {
   "cell_type": "markdown",
   "metadata": {
    "id": "4tz_ylt7-KN9"
   },
   "source": [
    "## Numbers"
   ]
  },
  {
   "cell_type": "code",
   "execution_count": 1,
   "metadata": {
    "colab": {
     "base_uri": "https://localhost:8080/"
    },
    "id": "L_Q-KYCN3402",
    "outputId": "b5dddb51-e379-4765-b034-7b9ead110ad5"
   },
   "outputs": [
    {
     "name": "stdout",
     "output_type": "stream",
     "text": [
      "20\n",
      "10\n",
      "50\n",
      "230\n"
     ]
    }
   ],
   "source": [
    "x = 15  # Assignment\n",
    "print(x + 5)  # Addition\n",
    "print(x - 5)  # Subtraction\n",
    "print(x * 3 + 5)  # Multiplication\n",
    "print(x ** 2 + 5) # Exponentiation"
   ]
  },
  {
   "cell_type": "code",
   "execution_count": 2,
   "metadata": {
    "colab": {
     "base_uri": "https://localhost:8080/"
    },
    "id": "d-79MBLI6Cjx",
    "outputId": "5d9bd411-61a5-4ebe-9cf8-b3d991bb42c3"
   },
   "outputs": [
    {
     "name": "stdout",
     "output_type": "stream",
     "text": [
      "<class 'int'>\n",
      "<class 'float'>\n"
     ]
    }
   ],
   "source": [
    "print(type(x))\n",
    "y = x + 0.9\n",
    "print(type(y))"
   ]
  },
  {
   "cell_type": "code",
   "execution_count": 3,
   "metadata": {
    "colab": {
     "base_uri": "https://localhost:8080/"
    },
    "id": "OSKL7qFjQiwM",
    "outputId": "7ac6a922-67d5-4b61-9424-32289c7d3e57"
   },
   "outputs": [
    {
     "name": "stdout",
     "output_type": "stream",
     "text": [
      "3.75\n",
      "3\n",
      "3\n"
     ]
    }
   ],
   "source": [
    "print(x/4)  # Division\n",
    "print(x//4) # Quotient\n",
    "print(x%4)  # Remainder (or modulo)"
   ]
  },
  {
   "cell_type": "markdown",
   "metadata": {
    "id": "f3DwyKcr-INP"
   },
   "source": [
    "## Booleans"
   ]
  },
  {
   "cell_type": "code",
   "execution_count": 4,
   "metadata": {
    "colab": {
     "base_uri": "https://localhost:8080/"
    },
    "id": "0M-qJ2DZ-DNp",
    "outputId": "a384b402-ff75-46e2-e652-a2ea47859741"
   },
   "outputs": [
    {
     "name": "stdout",
     "output_type": "stream",
     "text": [
      "False\n",
      "True\n",
      "False\n",
      "False\n"
     ]
    }
   ],
   "source": [
    "a, b = True, False\n",
    "print(a and b)  \n",
    "print(a or b)\n",
    "print(not a)\n",
    "print((not a) and (not b))"
   ]
  },
  {
   "cell_type": "markdown",
   "metadata": {
    "id": "d_trs9ADJGpH"
   },
   "source": [
    "## Strings"
   ]
  },
  {
   "cell_type": "code",
   "execution_count": 5,
   "metadata": {
    "colab": {
     "base_uri": "https://localhost:8080/"
    },
    "id": "upWTM0HkJJQ6",
    "outputId": "5e631799-a9c2-4fe4-b026-2fe6fbd7802b"
   },
   "outputs": [
    {
     "name": "stdout",
     "output_type": "stream",
     "text": [
      "John, Michael\n",
      "o\n"
     ]
    }
   ],
   "source": [
    "name_1 = \"John\"\n",
    "name_2 = 'Michael'\n",
    "print(name_1 + \", \" + name_2)\n",
    "print(name_1[1])  # You can treat them as an array of characters"
   ]
  },
  {
   "cell_type": "markdown",
   "metadata": {
    "id": "B5S6AccoKJ0c"
   },
   "source": [
    "# Data Structures"
   ]
  },
  {
   "cell_type": "markdown",
   "metadata": {
    "id": "xncYxrh1KRMM"
   },
   "source": [
    "Common data structures are lists, dictionaries, tuples, sets."
   ]
  },
  {
   "cell_type": "markdown",
   "metadata": {
    "id": "e-DXX2acMAAR"
   },
   "source": [
    "## Lists"
   ]
  },
  {
   "cell_type": "code",
   "execution_count": 6,
   "metadata": {
    "colab": {
     "base_uri": "https://localhost:8080/"
    },
    "id": "4M4NWJHYKM6j",
    "outputId": "ec41591f-f6cf-4ff0-eb98-c875f629cf30"
   },
   "outputs": [
    {
     "name": "stdout",
     "output_type": "stream",
     "text": [
      "Size of list is 3\n"
     ]
    }
   ],
   "source": [
    "arr = [3, \"asd\", 4]\n",
    "print(\"Size of list is \" + str(len(arr)))"
   ]
  },
  {
   "cell_type": "code",
   "execution_count": 7,
   "metadata": {
    "colab": {
     "base_uri": "https://localhost:8080/"
    },
    "id": "RuNM3sI5Lo9s",
    "outputId": "dacce747-57f2-4610-8ab2-40177823d47e"
   },
   "outputs": [
    {
     "name": "stdout",
     "output_type": "stream",
     "text": [
      "3\n",
      "[3, 'asd', 4]\n",
      "[3, 4]\n",
      "4\n",
      "[3, 'asd']\n"
     ]
    }
   ],
   "source": [
    "print(arr[0])   # List indexing\n",
    "print(arr[0:]) # Slicing - indexing a range of values (start:end:stepsize)\n",
    "print(arr[::2]) # If start and end aren't provided, considers the entire list\n",
    "print(arr[-1])  # You can also index using negative values in the reverse order\n",
    "print(arr[:-1]) # Start = 0, End = -1"
   ]
  },
  {
   "cell_type": "code",
   "execution_count": 8,
   "metadata": {
    "colab": {
     "base_uri": "https://localhost:8080/"
    },
    "id": "vYUVJDHrMB4e",
    "outputId": "3f854ae2-5070-4717-a893-a56f9a8c6774"
   },
   "outputs": [
    {
     "name": "stdout",
     "output_type": "stream",
     "text": [
      "[3, 4, 'new']\n",
      "[3, 4]\n"
     ]
    }
   ],
   "source": [
    "arr.append(\"new\") # Add new item to a list\n",
    "arr.remove(\"asd\") # Delete by value (Be mindful about duplicates)\n",
    "print(arr)\n",
    "del arr[-1]  # Delete by index\n",
    "print(arr)"
   ]
  },
  {
   "cell_type": "code",
   "execution_count": 9,
   "metadata": {
    "colab": {
     "base_uri": "https://localhost:8080/"
    },
    "id": "p_oN7wjr0jcf",
    "outputId": "1c681b81-52ef-4711-c9b8-464b2918ed85"
   },
   "outputs": [
    {
     "name": "stdout",
     "output_type": "stream",
     "text": [
      "[3, 4, 4]\n",
      "1\n",
      "[3, 4]\n"
     ]
    }
   ],
   "source": [
    "arr.append(4)\n",
    "print(arr)\n",
    "print(arr.index(4)) # Returns the index of value (first occurence)\n",
    "val_to_remove = arr[arr.index(4)]\n",
    "arr.remove(val_to_remove)\n",
    "print(arr)"
   ]
  },
  {
   "cell_type": "code",
   "execution_count": 10,
   "metadata": {
    "colab": {
     "base_uri": "https://localhost:8080/"
    },
    "id": "0sVwVUthT8QJ",
    "outputId": "e4ff9461-9a5e-4d90-a23e-d19b0a7945d1"
   },
   "outputs": [
    {
     "name": "stdout",
     "output_type": "stream",
     "text": [
      "[3, 4, 5, 6, 7]\n",
      "[3, 5, 6, 7, 4]\n"
     ]
    }
   ],
   "source": [
    "arr_2 = [5, 6, 7]\n",
    "print(arr + arr_2)  # Concatenate two lists\n",
    "print(arr[:1] + arr_2 + arr[1:])  # Combining arrays in different ways\n"
   ]
  },
  {
   "cell_type": "markdown",
   "metadata": {
    "id": "iTEjZd7_WdM1"
   },
   "source": [
    "How to loop through lists to transform data?"
   ]
  },
  {
   "cell_type": "code",
   "execution_count": 11,
   "metadata": {
    "colab": {
     "base_uri": "https://localhost:8080/"
    },
    "id": "J7M_ttePWTEi",
    "outputId": "7c51642d-c36c-4d67-c7e8-939a8a089df6"
   },
   "outputs": [
    {
     "name": "stdout",
     "output_type": "stream",
     "text": [
      "9\n",
      "16\n",
      "25\n",
      "36\n",
      "49\n"
     ]
    }
   ],
   "source": [
    "arr = arr + arr_2\n",
    "for x in arr:\n",
    "  print(x**2)"
   ]
  },
  {
   "cell_type": "code",
   "execution_count": 12,
   "metadata": {
    "colab": {
     "base_uri": "https://localhost:8080/"
    },
    "id": "4ymv1Woo_8kH",
    "outputId": "dbc18829-cc03-4eb7-dd52-65c53cb99e77"
   },
   "outputs": [
    {
     "name": "stdout",
     "output_type": "stream",
     "text": [
      "0 9\n",
      "1 16\n",
      "2 5\n",
      "3 36\n",
      "4 49\n"
     ]
    }
   ],
   "source": [
    "# If you want to keep track of index, use enumerate()\n",
    "\n",
    "for counter, x in enumerate(arr):\n",
    "  if(counter == 2):\n",
    "    print(counter, x)\n",
    "  else:\n",
    "    print(counter, x**2)"
   ]
  },
  {
   "cell_type": "code",
   "execution_count": 13,
   "metadata": {
    "colab": {
     "base_uri": "https://localhost:8080/"
    },
    "id": "OO6eOHkXW-u8",
    "outputId": "22a2d66d-eca7-4a03-c563-0ffe1d3a4678"
   },
   "outputs": [
    {
     "name": "stdout",
     "output_type": "stream",
     "text": [
      "[9, 16, 25, 36, 49]\n",
      "[25, 36, 49]\n"
     ]
    }
   ],
   "source": [
    "squares = [x**2 for x in arr]  # Possible to loop in a single line\n",
    "print(squares)\n",
    "large_squares = [x**2 for x in arr if x>=5] # It is possible to add conditions\n",
    "print(large_squares)"
   ]
  },
  {
   "cell_type": "markdown",
   "metadata": {
    "id": "xjTLFPbDV8jV"
   },
   "source": [
    "## Dictionaries"
   ]
  },
  {
   "cell_type": "markdown",
   "metadata": {
    "id": "Lhh1xZKIYTsO"
   },
   "source": [
    "Dictionaries consist of key-value pairs. "
   ]
  },
  {
   "cell_type": "code",
   "execution_count": 14,
   "metadata": {
    "colab": {
     "base_uri": "https://localhost:8080/"
    },
    "id": "3W2Fq72dV_7y",
    "outputId": "f5ce37e5-2fde-46aa-96d0-6291c8fb85ce"
   },
   "outputs": [
    {
     "name": "stdout",
     "output_type": "stream",
     "text": [
      "dict_keys(['GV1', 'GV2', 'GV3'])\n",
      "dict_values(['Computer Vision', 'Machine Learning', 'Computer Graphics'])\n"
     ]
    }
   ],
   "source": [
    "dict_modules = {\"GV1\":\"Computer Vision\", \"GV2\": \"Machine Learning\", \"GV3\": \"Computer Graphics\"}\n",
    "print(dict_modules.keys())\n",
    "print(dict_modules.values())\n"
   ]
  },
  {
   "cell_type": "code",
   "execution_count": 15,
   "metadata": {
    "colab": {
     "base_uri": "https://localhost:8080/"
    },
    "id": "r3deXfWkYouZ",
    "outputId": "9829787d-cbcd-4232-b9eb-7f2db6dd4cf5"
   },
   "outputs": [
    {
     "name": "stdout",
     "output_type": "stream",
     "text": [
      "Computer Vision\n",
      "False\n",
      "True\n"
     ]
    }
   ],
   "source": [
    "print(dict_modules[\"GV1\"])\n",
    "print(\"GV4\" in dict_modules)\n",
    "dict_modules[\"GV4\"] = \"Augmented Reality\" # Create new entry\n",
    "dict_modules[\"GV1\"] = \"CV\" # Modify an entry\n",
    "print(\"GV4\" in dict_modules)"
   ]
  },
  {
   "cell_type": "code",
   "execution_count": 16,
   "metadata": {
    "colab": {
     "base_uri": "https://localhost:8080/"
    },
    "id": "-S96RjrAbaOM",
    "outputId": "9bd3099a-3a4e-4ece-94bc-c57c4e7d66a8"
   },
   "outputs": [
    {
     "data": {
      "text/plain": [
       "5"
      ]
     },
     "execution_count": 16,
     "metadata": {},
     "output_type": "execute_result"
    }
   ],
   "source": [
    "dict_modules['GV1'] = {\"Module\":\"Computer Vision\", \"Credits\":5, \"Midterms\": None}\n",
    "dict_modules['GV1']['Credits']"
   ]
  },
  {
   "cell_type": "code",
   "execution_count": 17,
   "metadata": {
    "colab": {
     "base_uri": "https://localhost:8080/"
    },
    "id": "TRW8E37K9zXU",
    "outputId": "c8531297-e790-48d1-a8c7-f517d464c3d4"
   },
   "outputs": [
    {
     "name": "stdout",
     "output_type": "stream",
     "text": [
      "GV1 {'Module': 'Computer Vision', 'Credits': 5, 'Midterms': None}\n",
      "GV2 Machine Learning\n",
      "GV3 Computer Graphics\n",
      "GV4 Augmented Reality\n"
     ]
    }
   ],
   "source": [
    "for key, value in dict_modules.items():\n",
    "  print(key, value)"
   ]
  },
  {
   "cell_type": "markdown",
   "metadata": {
    "id": "i2snZyiuBTuZ"
   },
   "source": [
    "## Tuples"
   ]
  },
  {
   "cell_type": "code",
   "execution_count": 18,
   "metadata": {
    "colab": {
     "base_uri": "https://localhost:8080/"
    },
    "id": "L-hIVFMYBW08",
    "outputId": "b9cd8a31-829c-4272-87ac-c05174bb41b6"
   },
   "outputs": [
    {
     "name": "stdout",
     "output_type": "stream",
     "text": [
      "(1, 5)\n",
      "(2, 6)\n",
      "(3, 7)\n",
      "(4, 8)\n",
      "(5, 9)\n"
     ]
    }
   ],
   "source": [
    "tple = (1,5)\n",
    "tple_list = []\n",
    "for i in range(5):\n",
    "  new_tple = (tple[0]+i,tple[1]+i)    # Access tuple elements by index\n",
    "  tple_list.append( new_tple )\n",
    "  print(new_tple)"
   ]
  },
  {
   "cell_type": "markdown",
   "metadata": {
    "id": "6ApDb0uYCqap"
   },
   "source": [
    "## Sets"
   ]
  },
  {
   "cell_type": "code",
   "execution_count": 19,
   "metadata": {
    "colab": {
     "base_uri": "https://localhost:8080/"
    },
    "id": "J7m1GUP3CxLS",
    "outputId": "f7fc15e0-75a5-49ae-8ca0-d0021af44785"
   },
   "outputs": [
    {
     "name": "stdout",
     "output_type": "stream",
     "text": [
      "Monday\n",
      "Friday\n",
      "Sunday\n",
      "Saturday\n",
      "Tuesday\n",
      "Thursday\n",
      "Wednesday\n"
     ]
    }
   ],
   "source": [
    "days = {\"Monday\", \"Tuesday\", \"Wednesday\", \"Thursday\", \"Friday\", \"Saturday\", \"Sunday\"}\n",
    "\n",
    "for day in days:\n",
    "  print(day)"
   ]
  },
  {
   "cell_type": "markdown",
   "metadata": {
    "id": "XP7FoBgQMKIu"
   },
   "source": [
    "# Functions and Classes"
   ]
  },
  {
   "cell_type": "code",
   "execution_count": 20,
   "metadata": {
    "colab": {
     "base_uri": "https://localhost:8080/"
    },
    "id": "qSRGu65lM2w7",
    "outputId": "5ea62364-94b2-478a-f419-8e4cbe0dae99"
   },
   "outputs": [
    {
     "name": "stdout",
     "output_type": "stream",
     "text": [
      "True\n",
      "False\n"
     ]
    }
   ],
   "source": [
    "def function(a, b):\n",
    "  if(a > b):\n",
    "    return True\n",
    "  else:\n",
    "    return False\n",
    "\n",
    "print(function(5,3))\n",
    "print(function(3,5))"
   ]
  },
  {
   "cell_type": "code",
   "execution_count": 21,
   "metadata": {
    "colab": {
     "base_uri": "https://localhost:8080/"
    },
    "id": "4J4QUi0qNclk",
    "outputId": "3dfe10e4-140c-4a9b-ab57-67b3336ee1ef"
   },
   "outputs": [
    {
     "name": "stdout",
     "output_type": "stream",
     "text": [
      "City of Dublin has a population of 1.3M and it is a capital.\n"
     ]
    }
   ],
   "source": [
    "class City:\n",
    "\n",
    "  def __init__(self, name, isCapital):\n",
    "    self.name = name\n",
    "    self.isCapital = isCapital\n",
    "\n",
    "  def SetPopulation(self, population):\n",
    "    self.population = population\n",
    "  \n",
    "  def DisplayInfo(self):\n",
    "    capital_word = \"\" if self.isCapital == True else \"not \"\n",
    "    print(\"City of \" + self.name + \" has a population of \" + str(self.population/10**6) + \"M and it is \" + capital_word + \"a capital.\")\n",
    "\n",
    "city1 = City(\"Dublin\", True)\n",
    "city1.SetPopulation(1300000)\n",
    "city1.DisplayInfo()"
   ]
  },
  {
   "cell_type": "markdown",
   "metadata": {
    "id": "-5hPV8qI1HOd"
   },
   "source": [
    "# NumPy"
   ]
  },
  {
   "cell_type": "markdown",
   "metadata": {
    "id": "su9u91m01PQ1"
   },
   "source": [
    "A great library to store, transform, manipulate large multidimensional arrays."
   ]
  },
  {
   "cell_type": "code",
   "execution_count": 22,
   "metadata": {
    "id": "935uFOve1O3C"
   },
   "outputs": [],
   "source": [
    "import numpy as np"
   ]
  },
  {
   "cell_type": "code",
   "execution_count": 23,
   "metadata": {
    "colab": {
     "base_uri": "https://localhost:8080/"
    },
    "id": "MSHxac4-11Xg",
    "outputId": "e4181d03-675c-4395-d779-39f020827dd6"
   },
   "outputs": [
    {
     "name": "stdout",
     "output_type": "stream",
     "text": [
      "[[1 2 3]\n",
      " [4 5 6]]\n",
      "(2, 3)\n"
     ]
    }
   ],
   "source": [
    "arr = np.array([[1,2,3], [4,5,6]])\n",
    "\n",
    "print(arr)\n",
    "print(arr.shape)\n"
   ]
  },
  {
   "cell_type": "code",
   "execution_count": 24,
   "metadata": {
    "colab": {
     "base_uri": "https://localhost:8080/"
    },
    "id": "DrK4jJOCsK7r",
    "outputId": "13f8689c-117b-4018-cc3c-94110513c065"
   },
   "outputs": [
    {
     "name": "stdout",
     "output_type": "stream",
     "text": [
      "[[0. 0. 0. 0. 0.]\n",
      " [0. 0. 0. 0. 0.]\n",
      " [0. 0. 0. 0. 0.]\n",
      " [0. 0. 0. 0. 0.]\n",
      " [0. 0. 0. 0. 0.]]\n",
      "[[1. 1. 1.]\n",
      " [1. 1. 1.]\n",
      " [1. 1. 1.]]\n",
      "[[0.4522757  0.89569084]\n",
      " [0.23683468 0.55282505]\n",
      " [0.98220068 0.56630439]]\n"
     ]
    }
   ],
   "source": [
    "# Other ways to create arrays\n",
    "zeros = np.zeros((5,5))\n",
    "print(zeros)\n",
    "\n",
    "ones = np.ones((3,3))\n",
    "print(ones)\n",
    "\n",
    "random = np.random.random((3,2))\n",
    "print(random)"
   ]
  },
  {
   "cell_type": "code",
   "execution_count": 25,
   "metadata": {
    "colab": {
     "base_uri": "https://localhost:8080/"
    },
    "id": "AmCoOshh2MUd",
    "outputId": "10c6528a-6c15-45ac-d9cb-f8f920b7d59a"
   },
   "outputs": [
    {
     "name": "stdout",
     "output_type": "stream",
     "text": [
      "1\n",
      "5\n",
      "3\n"
     ]
    }
   ],
   "source": [
    "print(arr[0,0])  # First dimension for row, second dimension for column\n",
    "print(arr[1,1])\n",
    "print(arr[0,-1])  # We can use negative indexing again"
   ]
  },
  {
   "cell_type": "code",
   "execution_count": 26,
   "metadata": {
    "colab": {
     "base_uri": "https://localhost:8080/"
    },
    "id": "wtYWg7pc2mt_",
    "outputId": "25be20e8-4cfb-4c0f-febe-a16d798eff6a"
   },
   "outputs": [
    {
     "name": "stdout",
     "output_type": "stream",
     "text": [
      "[1 2 3]\n",
      "[3 6]\n"
     ]
    }
   ],
   "source": [
    "print(arr[0,:]) # Slicing\n",
    "print(arr[:,-1])"
   ]
  },
  {
   "cell_type": "code",
   "execution_count": 27,
   "metadata": {
    "colab": {
     "base_uri": "https://localhost:8080/"
    },
    "id": "7OBrgAxc5ptA",
    "outputId": "a37112e1-c01b-4643-e25c-5d036553fb68"
   },
   "outputs": [
    {
     "name": "stdout",
     "output_type": "stream",
     "text": [
      "[[ 2  4  6]\n",
      " [ 8 10 12]]\n"
     ]
    }
   ],
   "source": [
    "arr_2 = arr+arr # Unlike lists, you can add numpy arrays easily\n",
    "print(arr_2)"
   ]
  },
  {
   "cell_type": "code",
   "execution_count": 28,
   "metadata": {
    "colab": {
     "base_uri": "https://localhost:8080/"
    },
    "id": "muHOP-Sx58Iv",
    "outputId": "3a1ab19a-a896-4663-c427-680306e965a0"
   },
   "outputs": [
    {
     "name": "stdout",
     "output_type": "stream",
     "text": [
      "[[  4  16  36]\n",
      " [ 64 100 144]]\n",
      "[[0.5 1.  1.5]\n",
      " [2.  2.5 3. ]]\n"
     ]
    }
   ],
   "source": [
    "print(arr_2**2)\n",
    "print(arr_2/4)"
   ]
  },
  {
   "cell_type": "markdown",
   "metadata": {
    "id": "_DYztmBuEFGa"
   },
   "source": [
    "# An Introductory Image Processing Example"
   ]
  },
  {
   "cell_type": "markdown",
   "metadata": {
    "id": "Nt8GTmlhEJua"
   },
   "source": [
    "We now make an introduction to OpenCV. Detailed tutorials can be found on https://docs.opencv.org/4.x/d6/d00/tutorial_py_root.html\n",
    "\n",
    "This example covers multiple steps:\n",
    " - Load an image dataset\n",
    " - Display the image\n",
    " - Some basic operations on the image using OpenCV"
   ]
  },
  {
   "cell_type": "code",
   "execution_count": 29,
   "metadata": {
    "id": "y73O1br-_Z9Q"
   },
   "outputs": [],
   "source": [
    "from sklearn.datasets import load_sample_images\n",
    "import cv2 as cv  # Imports OpenCV\n",
    "import numpy as np\n",
    "# from google.colab.patches import cv2_imshow\n",
    "\n",
    "dataset = load_sample_images()     "
   ]
  },
  {
   "cell_type": "code",
   "execution_count": 30,
   "metadata": {
    "colab": {
     "base_uri": "https://localhost:8080/"
    },
    "id": "xxPdt69DAo5v",
    "outputId": "18e81553-ff4d-4a67-cfba-54121ed7a7d4"
   },
   "outputs": [
    {
     "name": "stdout",
     "output_type": "stream",
     "text": [
      "dict_keys(['images', 'filenames', 'DESCR'])\n",
      "<class 'list'>\n"
     ]
    }
   ],
   "source": [
    "print(dataset.keys())\n",
    "images = dataset['images']\n",
    "print(type(images))"
   ]
  },
  {
   "cell_type": "code",
   "execution_count": 31,
   "metadata": {
    "colab": {
     "base_uri": "https://localhost:8080/"
    },
    "id": "ZnLbbfkBXY1l",
    "outputId": "7ed28ba2-e7b6-4226-e06c-77173f1b9014"
   },
   "outputs": [
    {
     "data": {
      "text/plain": [
       "(427, 640, 3)"
      ]
     },
     "execution_count": 31,
     "metadata": {},
     "output_type": "execute_result"
    }
   ],
   "source": [
    "images[0].shape\n"
   ]
  },
  {
   "cell_type": "markdown",
   "metadata": {
    "id": "2UQ8bdCXXauX"
   },
   "source": [
    "# What do the different dimensions of this image represent?"
   ]
  },
  {
   "cell_type": "markdown",
   "metadata": {
    "id": "K-UNKcr6XnL-"
   },
   "source": [
    "Typically, digital images consist of RGB channels - Red, Green, Blue. Each channel consists of 8 bits, so they take values between 0-255.\n",
    "\n",
    "Some devices can also capture depth as the 4th dimension - RGBD. They use Time-of-Flight, which is a technique to emit and receive a light source to calculate depth."
   ]
  },
  {
   "cell_type": "code",
   "execution_count": 35,
   "metadata": {
    "colab": {
     "base_uri": "https://localhost:8080/",
     "height": 444
    },
    "id": "9RalN_B9CCxG",
    "outputId": "8af0d310-4fa9-4389-bdf1-5db570717a63"
   },
   "outputs": [],
   "source": [
    "\n",
    "img = np.flip(images[1], axis=-1)   # Note that OpenCV needs images to be in B-G-R order. Normally, they're in R-G-B order. This\n",
    "\n",
    "cv.imshow('222', img)"
   ]
  },
  {
   "cell_type": "code",
   "execution_count": null,
   "metadata": {
    "colab": {
     "base_uri": "https://localhost:8080/",
     "height": 462
    },
    "id": "ojiezToEe23-",
    "outputId": "9f49d899-a8bf-43f7-bfdf-6552aa1cdd06"
   },
   "outputs": [],
   "source": [
    "b, g, r = cv.split(img) # Split the image into separate channels.\n",
    "print(r.shape)\n",
    "\n",
    "gray = cv.cvtColor(img, cv.COLOR_BGR2GRAY)  # Grayscale image\n",
    "cv2_imshow(gray)"
   ]
  },
  {
   "cell_type": "code",
   "execution_count": null,
   "metadata": {
    "colab": {
     "base_uri": "https://localhost:8080/",
     "height": 444
    },
    "id": "VFKqnaEpAc6r",
    "outputId": "88e9c66b-0094-4fae-d909-6b51476f6979"
   },
   "outputs": [],
   "source": [
    "img_green = cv.merge((np.zeros_like(g), g , np.zeros_like(g))) # Only uses Green channel\n",
    "gray = cv.cvtColor(img_green, cv.COLOR_BGR2GRAY)  # Grayscale image\n",
    "cv2_imshow(gray)"
   ]
  },
  {
   "cell_type": "code",
   "execution_count": null,
   "metadata": {
    "colab": {
     "base_uri": "https://localhost:8080/",
     "height": 999
    },
    "id": "SI45bdxogKYG",
    "outputId": "a6ad5af9-a0bb-4345-a6b3-3628381a7d31"
   },
   "outputs": [],
   "source": [
    "img_2 = cv.merge((r,b,g))\n",
    "cv2_imshow(img_2)\n",
    "\n",
    "img_3 = cv.merge((b,r,g))\n",
    "cv2_imshow(img_3)"
   ]
  },
  {
   "cell_type": "code",
   "execution_count": null,
   "metadata": {
    "colab": {
     "base_uri": "https://localhost:8080/",
     "height": 572
    },
    "id": "JOTSX8bugrmH",
    "outputId": "e6c9437f-8ba2-4906-da92-c8684d53ed79"
   },
   "outputs": [],
   "source": [
    "img_3[:,:,0] = 0  # Make all blues zero.\n",
    "cv2_imshow(img_3)\n",
    "print(img_3[:,:,0])"
   ]
  },
  {
   "cell_type": "code",
   "execution_count": null,
   "metadata": {
    "colab": {
     "base_uri": "https://localhost:8080/",
     "height": 317
    },
    "id": "LiNLb15oiqce",
    "outputId": "bcbbf269-374e-469f-fd66-1c8ec3c3cc9d"
   },
   "outputs": [],
   "source": [
    "center = img_3.shape[0]//2, img_3.shape[1]//2\n",
    "crop_size = 150\n",
    "img_cropped = img_3[center[0] - crop_size:center[0] + crop_size, center[1] - crop_size : center[1] + crop_size, :]\n",
    "cv2_imshow(img_cropped)"
   ]
  },
  {
   "cell_type": "code",
   "execution_count": null,
   "metadata": {
    "colab": {
     "base_uri": "https://localhost:8080/",
     "height": 167
    },
    "id": "b_dp3HTikUmG",
    "outputId": "5396fb6d-f768-4319-f3a7-7f33a1549f26"
   },
   "outputs": [],
   "source": [
    "scale_percent = 50 # percent of original size\n",
    "width = int(img_cropped.shape[1] * scale_percent / 100)   # Calculate new width\n",
    "height = int(img_cropped.shape[0] * scale_percent / 100)  # Calculate new height\n",
    "dim = (width, height)\n",
    "  \n",
    "# resize image\n",
    "img_resized = cv.resize(img_cropped, dim, interpolation = cv.INTER_AREA)\n",
    "cv2_imshow(img_resized)"
   ]
  },
  {
   "cell_type": "code",
   "execution_count": null,
   "metadata": {
    "colab": {
     "base_uri": "https://localhost:8080/",
     "height": 444
    },
    "id": "AH5zrFzCkjUq",
    "outputId": "93847127-ca8e-4474-d7a2-201c3c5a7781"
   },
   "outputs": [],
   "source": [
    "img_3[:150,:150,:] = img_resized  # Adds a resized flower\n",
    "img_3[-150:,-150:,:] = img_resized\n",
    "cv2_imshow(img_3)"
   ]
  }
 ],
 "metadata": {
  "colab": {
   "collapsed_sections": [],
   "provenance": []
  },
  "kernelspec": {
   "display_name": "Python (machine_learning)",
   "language": "python",
   "name": "machine_learning"
  },
  "language_info": {
   "codemirror_mode": {
    "name": "ipython",
    "version": 3
   },
   "file_extension": ".py",
   "mimetype": "text/x-python",
   "name": "python",
   "nbconvert_exporter": "python",
   "pygments_lexer": "ipython3",
   "version": "3.8.13"
  }
 },
 "nbformat": 4,
 "nbformat_minor": 1
}
