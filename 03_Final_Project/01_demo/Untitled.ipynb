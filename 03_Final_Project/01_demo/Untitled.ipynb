{
 "cells": [
  {
   "cell_type": "code",
   "execution_count": 6,
   "id": "70a6c27e",
   "metadata": {},
   "outputs": [
    {
     "ename": "OSError",
     "evalue": "Failed to interpret file 'D:\\\\Files\\\\005_TCD\\\\05_lectures\\\\04_CV(Computer_Vision)\\\\03_Final_Project\\\\01_demo\\\\8.txt' as a pickle",
     "output_type": "error",
     "traceback": [
      "\u001b[1;31m---------------------------------------------------------------------------\u001b[0m",
      "\u001b[1;31mUnpicklingError\u001b[0m                           Traceback (most recent call last)",
      "File \u001b[1;32mD:\\Program\\anaconda\\lib\\site-packages\\numpy\\lib\\npyio.py:448\u001b[0m, in \u001b[0;36mload\u001b[1;34m(file, mmap_mode, allow_pickle, fix_imports, encoding)\u001b[0m\n\u001b[0;32m    447\u001b[0m \u001b[38;5;28;01mtry\u001b[39;00m:\n\u001b[1;32m--> 448\u001b[0m     \u001b[38;5;28;01mreturn\u001b[39;00m pickle\u001b[38;5;241m.\u001b[39mload(fid, \u001b[38;5;241m*\u001b[39m\u001b[38;5;241m*\u001b[39mpickle_kwargs)\n\u001b[0;32m    449\u001b[0m \u001b[38;5;28;01mexcept\u001b[39;00m \u001b[38;5;167;01mException\u001b[39;00m \u001b[38;5;28;01mas\u001b[39;00m e:\n",
      "\u001b[1;31mUnpicklingError\u001b[0m: unpickling stack underflow",
      "\nThe above exception was the direct cause of the following exception:\n",
      "\u001b[1;31mOSError\u001b[0m                                   Traceback (most recent call last)",
      "Input \u001b[1;32mIn [6]\u001b[0m, in \u001b[0;36m<cell line: 1>\u001b[1;34m()\u001b[0m\n\u001b[1;32m----> 1\u001b[0m bbox_data \u001b[38;5;241m=\u001b[39m \u001b[43mnp\u001b[49m\u001b[38;5;241;43m.\u001b[39;49m\u001b[43mload\u001b[49m\u001b[43m(\u001b[49m\u001b[38;5;124;43m'\u001b[39;49m\u001b[38;5;124;43mD:\u001b[39;49m\u001b[38;5;130;43;01m\\\\\u001b[39;49;00m\u001b[38;5;124;43mFiles\u001b[39;49m\u001b[38;5;130;43;01m\\\\\u001b[39;49;00m\u001b[38;5;124;43m005_TCD\u001b[39;49m\u001b[38;5;130;43;01m\\\\\u001b[39;49;00m\u001b[38;5;124;43m05_lectures\u001b[39;49m\u001b[38;5;130;43;01m\\\\\u001b[39;49;00m\u001b[38;5;124;43m04_CV(Computer_Vision)\u001b[39;49m\u001b[38;5;130;43;01m\\\\\u001b[39;49;00m\u001b[38;5;124;43m03_Final_Project\u001b[39;49m\u001b[38;5;130;43;01m\\\\\u001b[39;49;00m\u001b[38;5;124;43m01_demo\u001b[39;49m\u001b[38;5;130;43;01m\\\\\u001b[39;49;00m\u001b[38;5;124;43m8.txt\u001b[39;49m\u001b[38;5;124;43m'\u001b[39;49m\u001b[43m,\u001b[49m\u001b[43m \u001b[49m\u001b[43mallow_pickle\u001b[49m\u001b[38;5;241;43m=\u001b[39;49m\u001b[38;5;28;43;01mTrue\u001b[39;49;00m\u001b[43m)\u001b[49m\n",
      "File \u001b[1;32mD:\\Program\\anaconda\\lib\\site-packages\\numpy\\lib\\npyio.py:450\u001b[0m, in \u001b[0;36mload\u001b[1;34m(file, mmap_mode, allow_pickle, fix_imports, encoding)\u001b[0m\n\u001b[0;32m    448\u001b[0m     \u001b[38;5;28;01mreturn\u001b[39;00m pickle\u001b[38;5;241m.\u001b[39mload(fid, \u001b[38;5;241m*\u001b[39m\u001b[38;5;241m*\u001b[39mpickle_kwargs)\n\u001b[0;32m    449\u001b[0m \u001b[38;5;28;01mexcept\u001b[39;00m \u001b[38;5;167;01mException\u001b[39;00m \u001b[38;5;28;01mas\u001b[39;00m e:\n\u001b[1;32m--> 450\u001b[0m     \u001b[38;5;28;01mraise\u001b[39;00m \u001b[38;5;167;01mIOError\u001b[39;00m(\n\u001b[0;32m    451\u001b[0m         \u001b[38;5;124m\"\u001b[39m\u001b[38;5;124mFailed to interpret file \u001b[39m\u001b[38;5;132;01m%s\u001b[39;00m\u001b[38;5;124m as a pickle\u001b[39m\u001b[38;5;124m\"\u001b[39m \u001b[38;5;241m%\u001b[39m \u001b[38;5;28mrepr\u001b[39m(file)) \u001b[38;5;28;01mfrom\u001b[39;00m \u001b[38;5;21;01me\u001b[39;00m\n",
      "\u001b[1;31mOSError\u001b[0m: Failed to interpret file 'D:\\\\Files\\\\005_TCD\\\\05_lectures\\\\04_CV(Computer_Vision)\\\\03_Final_Project\\\\01_demo\\\\8.txt' as a pickle"
     ]
    }
   ],
   "source": [
    "bbox_data = np.load('D:\\\\Files\\\\005_TCD\\\\05_lectures\\\\04_CV(Computer_Vision)\\\\03_Final_Project\\\\01_demo\\\\8.txt', allow_pickle=True)"
   ]
  },
  {
   "cell_type": "code",
   "execution_count": 3,
   "id": "a1450e53",
   "metadata": {},
   "outputs": [
    {
     "name": "stdout",
     "output_type": "stream",
     "text": [
      "Number of red tomatoes: 55\n",
      "Number of green tomatoes: 35\n",
      "Total number of tomatoes: 90\n"
     ]
    }
   ],
   "source": [
    "import cv2\n",
    "import numpy as np\n",
    "\n",
    "\n",
    "A=cv2.imread('8_ori.png')#Read image\n",
    "B=cv2.cvtColor(A,cv2.COLOR_BGR2RGB) #Investment channel\n",
    "B=cv2.cvtColor(B,cv2.COLOR_RGB2HSV) #Image to hsv conversion\n",
    "\n",
    "H=B[:,:,0]\n",
    "S=B[:,:,1]\n",
    "V=B[:,:,2]\n",
    "\n",
    "maskrojo=((H>0) & (H<25)) |  ((H>165) & (H<180)) &  ((S>80) & (S<255))  &  ((V>80) & (V<255))#Boolean condition was created, for true or false\n",
    "maskrojo=maskrojo*255  #Must be passed to a numeric value\n",
    "maskrojo=maskrojo.astype(np.uint8) #8 bits format\n",
    "\n",
    "maskverde=((H>30) & (H<45))&  ((S>10) & (S<255))  &  ((V>65) & (V<255))    \n",
    "maskverde=maskverde*255  \n",
    "maskverde=maskverde.astype(np.uint8) \n",
    "\n",
    "res =cv2.bitwise_and(A,A,mask=maskrojo) \n",
    "res2 =cv2.bitwise_and(A,A,mask=maskverde) \n",
    "\n",
    "#grayscale conversion\n",
    "B=cv2.cvtColor(res,cv2.COLOR_BGR2GRAY)  \n",
    "C=cv2.cvtColor(res2,cv2.COLOR_BGR2GRAY) \n",
    "\n",
    "\n",
    "#Circle hough transform\n",
    "circle=cv2.HoughCircles(B,cv2.HOUGH_GRADIENT,1,41,param1=50,param2=30,minRadius=2,maxRadius=40)\n",
    "circle=np.uint16(np.around(circle))\n",
    "for i in circle[0,:]:\n",
    "    #draw circle\n",
    "    cv2.circle(A,(i[0],i[1]),i[2],(0,255,0),2)\n",
    "     #draw point\n",
    "    cv2.circle(A,(i[0],i[1]),2,(0,0,255),3)\n",
    "\n",
    "circle2=cv2.HoughCircles(C,cv2.HOUGH_GRADIENT,1,41,param1=50,param2=30,minRadius=9,maxRadius=40)\n",
    "circle2=np.uint16(np.around(circle2))\n",
    "for i in circle2[0,:]:\n",
    "    cv2.circle(A,(i[0],i[1]),i[2],(0,0,0),2)\n",
    "    cv2.circle(A,(i[0],i[1]),2,(0,0,255),3)\n",
    "\n",
    "\n",
    "print('Number of red tomatoes:',len(circle[0,:]))\n",
    "print('Number of green tomatoes:',len(circle2[0,:]))\n",
    "print('Total number of tomatoes:',len(circle[0,:])+len(circle2[0,:]))\n",
    "\n",
    "result= 255 * np.ones((210,150,3), dtype = np.uint8)\n",
    "\n",
    "cv2.circle(result, (30,30), 15, (0,0,255), -1)\n",
    "cv2.circle(result, (30,70), 15, (0,255,0), -1)\n",
    "cv2.putText(result,str(len(circle[0,:])),(65,40), 1, 2,(0,0,0),2)\n",
    "cv2.putText(result,str(len(circle2[0,:])),(65,80), 1, 2,(0,0,0),2)\n",
    "totalCnts = len(circle[0,:]) + len(circle[0,:])\n",
    "cv2.putText(result,'Total: '+str(totalCnts),(0,120), 1, 2,(0,0,0),2)\n",
    "cv2.imshow('t',result)\n",
    "\n",
    "cv2.imshow('Tomato_detection',A) #Print\n",
    "cv2.imwrite(\"Savephoto.png\",A) #Save\n",
    "cv2.imshow('Tomato red mask',res) #Print\n",
    "cv2.imshow('Tomato green mask',res2) #Print\n",
    "cv2.waitKey(0)\n",
    "cv2.destroyAllWindows()"
   ]
  }
 ],
 "metadata": {
  "kernelspec": {
   "display_name": "base",
   "language": "python",
   "name": "base"
  },
  "language_info": {
   "codemirror_mode": {
    "name": "ipython",
    "version": 3
   },
   "file_extension": ".py",
   "mimetype": "text/x-python",
   "name": "python",
   "nbconvert_exporter": "python",
   "pygments_lexer": "ipython3",
   "version": "3.9.12"
  }
 },
 "nbformat": 4,
 "nbformat_minor": 5
}
