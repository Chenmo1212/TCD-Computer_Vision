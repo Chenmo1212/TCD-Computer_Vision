{
 "cells": [
  {
   "cell_type": "code",
   "execution_count": 4,
   "id": "79ff658e",
   "metadata": {},
   "outputs": [],
   "source": [
    "%matplotlib inline\n",
    "import cv2\n",
    "import matplotlib\n",
    "from matplotlib import pyplot as plt\n",
    "import numpy as np\n",
    "from keras.models import Sequential\n",
    "from tensorflow.keras import layers, regularizers\n",
    "from keras.layers import Dense, Dropout, Activation, Flatten, BatchNormalization\n",
    "from keras.layers import Conv2D, MaxPooling2D, LeakyReLU\n",
    "from sklearn.metrics import confusion_matrix, classification_report\n",
    "from sklearn.model_selection import train_test_split\n",
    "import time\n",
    "import os"
   ]
  },
  {
   "cell_type": "code",
   "execution_count": 5,
   "id": "fee6199f",
   "metadata": {},
   "outputs": [],
   "source": [
    "def get_all_imgs(path):\n",
    "    # Read all pictures in the current directory\n",
    "    imgs = []\n",
    "    imgs_data = []\n",
    "    for root, dirs, files in os.walk(path):\n",
    "        for file in files:\n",
    "            if os.path.splitext(file)[1] == '.png':\n",
    "                img = os.path.join(root, file)\n",
    "                imgs.append(img)\n",
    "                imgs_data.append(cv2.imread(img))\n",
    "    return imgs_data"
   ]
  }
 ],
 "metadata": {
  "kernelspec": {
   "display_name": "base",
   "language": "python",
   "name": "base"
  },
  "language_info": {
   "codemirror_mode": {
    "name": "ipython",
    "version": 3
   },
   "file_extension": ".py",
   "mimetype": "text/x-python",
   "name": "python",
   "nbconvert_exporter": "python",
   "pygments_lexer": "ipython3",
   "version": "3.9.12"
  }
 },
 "nbformat": 4,
 "nbformat_minor": 5
}
