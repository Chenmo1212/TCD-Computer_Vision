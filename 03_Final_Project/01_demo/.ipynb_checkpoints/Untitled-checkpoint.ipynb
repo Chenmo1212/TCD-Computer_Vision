{
 "cells": [
  {
   "cell_type": "code",
   "execution_count": 2,
   "id": "6a671a32",
   "metadata": {},
   "outputs": [
    {
     "name": "stdout",
     "output_type": "stream",
     "text": [
      "Number of red tomatoes: 55\n",
      "Number of green tomatoes: 35\n",
      "Total number of tomatoes: 90\n"
     ]
    }
   ],
   "source": [
    "import cv2\n",
    "import numpy as np\n",
    "\n",
    "\n",
    "A=cv2.imread('8_ori.png')#Read image\n",
    "B=cv2.cvtColor(A,cv2.COLOR_BGR2RGB) #Investment channel\n",
    "B=cv2.cvtColor(B,cv2.COLOR_RGB2HSV) #Image to hsv conversion\n",
    "\n",
    "H=B[:,:,0]\n",
    "S=B[:,:,1]\n",
    "V=B[:,:,2]\n",
    "\n",
    "maskrojo=((H>0) & (H<25)) |  ((H>165) & (H<180)) &  ((S>80) & (S<255))  &  ((V>80) & (V<255))#Boolean condition was created, for true or false\n",
    "maskrojo=maskrojo*255  #Must be passed to a numeric value\n",
    "maskrojo=maskrojo.astype(np.uint8) #8 bits format\n",
    "\n",
    "maskverde=((H>30) & (H<45))&  ((S>10) & (S<255))  &  ((V>65) & (V<255))    \n",
    "maskverde=maskverde*255  \n",
    "maskverde=maskverde.astype(np.uint8) \n",
    "\n",
    "res =cv2.bitwise_and(A,A,mask=maskrojo) \n",
    "res2 =cv2.bitwise_and(A,A,mask=maskverde) \n",
    "\n",
    "#grayscale conversion\n",
    "B=cv2.cvtColor(res,cv2.COLOR_BGR2GRAY)  \n",
    "C=cv2.cvtColor(res2,cv2.COLOR_BGR2GRAY) \n",
    "\n",
    "\n",
    "#Circle hough transform\n",
    "circle=cv2.HoughCircles(B,cv2.HOUGH_GRADIENT,1,41,param1=50,param2=30,minRadius=2,maxRadius=40)\n",
    "circle=np.uint16(np.around(circle))\n",
    "for i in circle[0,:]:\n",
    "    #draw circle\n",
    "    cv2.circle(A,(i[0],i[1]),i[2],(0,255,0),2)\n",
    "     #draw point\n",
    "    cv2.circle(A,(i[0],i[1]),2,(0,0,255),3)\n",
    "\n",
    "circle2=cv2.HoughCircles(C,cv2.HOUGH_GRADIENT,1,41,param1=50,param2=30,minRadius=9,maxRadius=40)\n",
    "circle2=np.uint16(np.around(circle2))\n",
    "for i in circle2[0,:]:\n",
    "    cv2.circle(A,(i[0],i[1]),i[2],(0,0,0),2)\n",
    "    cv2.circle(A,(i[0],i[1]),2,(0,0,255),3)\n",
    "\n",
    "\n",
    "print('Number of red tomatoes:',len(circle[0,:]))\n",
    "print('Number of green tomatoes:',len(circle2[0,:]))\n",
    "print('Total number of tomatoes:',len(circle[0,:])+len(circle2[0,:]))\n",
    "\n",
    "result= 255 * np.ones((210,150,3), dtype = np.uint8)\n",
    "\n",
    "cv2.circle(result, (30,30), 15, (0,0,255), -1)\n",
    "cv2.circle(result, (30,70), 15, (0,255,0), -1)\n",
    "cv2.putText(result,str(len(circle[0,:])),(65,40), 1, 2,(0,0,0),2)\n",
    "cv2.putText(result,str(len(circle2[0,:])),(65,80), 1, 2,(0,0,0),2)\n",
    "totalCnts = len(circle[0,:]) + len(circle[0,:])\n",
    "cv2.putText(result,'Total: '+str(totalCnts),(0,120), 1, 2,(0,0,0),2)\n",
    "cv2.imshow('t',result)\n",
    "\n",
    "cv2.imshow('Tomato_detection',A) #Print\n",
    "cv2.imwrite(\"Savephoto.png\",A) #Save\n",
    "cv2.imshow('Tomato red mask',res) #Print\n",
    "cv2.imshow('Tomato green mask',res2) #Print\n",
    "cv2.waitKey(0)\n",
    "cv2.destroyAllWindows()"
   ]
  }
 ],
 "metadata": {
  "kernelspec": {
   "display_name": "base",
   "language": "python",
   "name": "base"
  },
  "language_info": {
   "codemirror_mode": {
    "name": "ipython",
    "version": 3
   },
   "file_extension": ".py",
   "mimetype": "text/x-python",
   "name": "python",
   "nbconvert_exporter": "python",
   "pygments_lexer": "ipython3",
   "version": "3.9.12"
  }
 },
 "nbformat": 4,
 "nbformat_minor": 5
}
